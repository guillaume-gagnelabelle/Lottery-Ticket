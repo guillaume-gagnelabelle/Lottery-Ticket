{
 "cells": [
  {
   "cell_type": "code",
   "execution_count": 6,
   "metadata": {},
   "outputs": [],
   "source": [
    "import torch\n",
    "import os\n",
    "import torch.nn as nn"
   ]
  },
  {
   "cell_type": "code",
   "execution_count": 3,
   "metadata": {},
   "outputs": [],
   "source": [
    "device = torch.device(\"cuda\" if torch.cuda.is_available() else \"cpu\")"
   ]
  },
  {
   "cell_type": "code",
   "execution_count": 13,
   "metadata": {},
   "outputs": [],
   "source": [
    "seed = 1\n",
    "\n",
    "projects = [f\"logs_NEW_lt_pp68x3_seed{seed}\", f\"logs_NEW_lt_pp90x2_seed{seed}\", f\"logs_NEW_regular_pp0x1_seed{seed}\"]\n",
    "model_pruned_68x3_0 = torch.load(f\"saves/fc1/mnist/new_run_v2/{projects[0]}_co2False_mnist.pt\", map_location=torch.device(device))[\"final_state_dict\"]\n",
    "# model_pruned_90x2 = torch.load(f\"{os.getcwd()}/saves/{args.arch_type}/{args.dataset}/new_run_v2/{projects[1]}_co2False_{args.dataset}.pt\", map_location=torch.device(args.device))[\"final_state_dict\"]\n",
    "# model_regular_0x1 = torch.load(f\"{os.getcwd()}/saves/{args.arch_type}/{args.dataset}/new_run_v2/{projects[2]}_co2False_{args.dataset}.pt\", map_location=torch.device(args.device))[\"final_state_dict\"]  # not pruned"
   ]
  },
  {
   "cell_type": "code",
   "execution_count": 9,
   "metadata": {},
   "outputs": [
    {
     "name": "stdout",
     "output_type": "stream",
     "text": [
      "odict_keys(['classifier.0.weight', 'classifier.0.bias', 'classifier.2.weight', 'classifier.2.bias', 'classifier.4.weight', 'classifier.4.bias'])\n"
     ]
    }
   ],
   "source": [
    "print(model_pruned_68x3_0.keys())"
   ]
  },
  {
   "cell_type": "code",
   "execution_count": 14,
   "metadata": {},
   "outputs": [
    {
     "name": "stdout",
     "output_type": "stream",
     "text": [
      "Layers and neurons:\n",
      "classifier: 784 -> 300\n",
      "classifier (bias): 300 neurons\n",
      "classifier: 300 -> 100\n",
      "classifier (bias): 100 neurons\n",
      "classifier: 100 -> 10\n",
      "classifier (bias): 10 neurons\n"
     ]
    }
   ],
   "source": [
    "from collections import OrderedDict\n",
    "\n",
    "# Assuming you have an OrderedDict called model_state_dict with keys and tensor values\n",
    "model_state_dict = model_pruned_68x3_0\n",
    "\n",
    "print(\"Layers and neurons:\")\n",
    "for key, value in model_state_dict.items():\n",
    "    if \"weight\" in key:\n",
    "        layer_name = key.split(\".\")[0]\n",
    "        in_features = value.shape[1]\n",
    "        out_features = value.shape[0]\n",
    "        print(f\"{layer_name}: {in_features} -> {out_features}\")\n",
    "    elif \"bias\" in key:\n",
    "        layer_name = key.split(\".\")[0]\n",
    "        num_neurons = value.shape[0]\n",
    "        print(f\"{layer_name} (bias): {num_neurons} neurons\")"
   ]
  },
  {
   "cell_type": "code",
   "execution_count": 15,
   "metadata": {},
   "outputs": [
    {
     "name": "stdout",
     "output_type": "stream",
     "text": [
      "Sparsity of each layer:\n",
      "classifier: 89.76%\n",
      "classifier: 89.76%\n",
      "classifier: 89.70%\n"
     ]
    }
   ],
   "source": [
    "print(\"Sparsity of each layer:\")\n",
    "for key, value in model_state_dict.items():\n",
    "    if \"weight\" in key:\n",
    "        layer_name = key.split(\".\")[0]\n",
    "        total_elements = value.numel()\n",
    "        zero_elements = torch.sum(value == 0).item()\n",
    "        sparsity = (zero_elements / total_elements) * 100\n",
    "        print(f\"{layer_name}: {sparsity:.2f}%\")"
   ]
  }
 ],
 "metadata": {
  "kernelspec": {
   "display_name": "Python 3",
   "language": "python",
   "name": "python3"
  },
  "language_info": {
   "codemirror_mode": {
    "name": "ipython",
    "version": 3
   },
   "file_extension": ".py",
   "mimetype": "text/x-python",
   "name": "python",
   "nbconvert_exporter": "python",
   "pygments_lexer": "ipython3",
   "version": "3.9.0"
  },
  "orig_nbformat": 4
 },
 "nbformat": 4,
 "nbformat_minor": 2
}
